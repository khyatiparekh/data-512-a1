{
 "cells": [
  {
   "cell_type": "markdown",
   "metadata": {
    "collapsed": true
   },
   "source": [
    "## API request for pageviews initiated "
   ]
  },
  {
   "cell_type": "markdown",
   "metadata": {},
   "source": [
    "The data is obtained through an API created by the wikimedia foundation enabling us to access the traffic data for mobile-web, mobile-app and desktop respectively"
   ]
  },
  {
   "cell_type": "code",
   "execution_count": 884,
   "metadata": {
    "collapsed": true
   },
   "outputs": [],
   "source": [
    "import requests\n",
    "import json\n",
    "import csv\n",
    "import numpy as np\n",
    "endpoint = 'https://wikimedia.org/api/rest_v1/metrics/pageviews/aggregate/{project}/{access}/{agent}/{granularity}/{start}/{end}'\n",
    "\n",
    "headers={'User-Agent' : 'https://github.com/your_github_username', 'From' : 'your_uw_email@uw.edu'}\n",
    "\n",
    "params = {'project' : 'en.wikipedia.org',\n",
    "            'access' : 'mobile-web',\n",
    "            'agent' : 'user',\n",
    "            'granularity' : 'monthly',\n",
    "            'start' : '2015070100',\n",
    "            'end' : '2017101000'#use the first day of the following month to ensure a full month of data is collected\n",
    "            }\n",
    "\n",
    "api_call = requests.get(endpoint.format(**params))\n",
    "response_pageviews_mobile_web = api_call.json()\n",
    "\n",
    "\n",
    "with open('pageviews_mobile_web_201507_201709.json', 'w') as outfile:\n",
    "    json.dump(response_pageviews_mobile_web, outfile)\n",
    "    \n"
   ]
  },
  {
   "cell_type": "code",
   "execution_count": 885,
   "metadata": {
    "collapsed": true
   },
   "outputs": [],
   "source": [
    "import requests\n",
    "import json\n",
    "import csv\n",
    "endpoint = 'https://wikimedia.org/api/rest_v1/metrics/pageviews/aggregate/{project}/{access}/{agent}/{granularity}/{start}/{end}'\n",
    "\n",
    "headers={'User-Agent' : 'https://github.com/your_github_username', 'From' : 'your_uw_email@uw.edu'}\n",
    "\n",
    "params = {'project' : 'en.wikipedia.org',\n",
    "            'access' : 'mobile-app',\n",
    "            'agent' : 'user',\n",
    "            'granularity' : 'monthly',\n",
    "            'start' : '2015070100',\n",
    "            'end' : '2017101000'#use the first day of the following month to ensure a full month of data is collected\n",
    "            }\n",
    "\n",
    "api_call = requests.get(endpoint.format(**params))\n",
    "response_pageviews_mobile_app = api_call.json()\n",
    "\n",
    "\n",
    "with open('pageviews_mobile_app_201507_201709.json', 'w') as outfile:\n",
    "    json.dump(response_pageviews_mobile_app, outfile)\n",
    "    \n"
   ]
  },
  {
   "cell_type": "code",
   "execution_count": 886,
   "metadata": {
    "collapsed": true
   },
   "outputs": [],
   "source": [
    "import requests\n",
    "import json\n",
    "import csv\n",
    "endpoint = 'https://wikimedia.org/api/rest_v1/metrics/pageviews/aggregate/{project}/{access}/{agent}/{granularity}/{start}/{end}'\n",
    "\n",
    "headers={'User-Agent' : 'https://github.com/your_github_username', 'From' : 'your_uw_email@uw.edu'}\n",
    "\n",
    "params = {'project' : 'en.wikipedia.org',\n",
    "            'access' : 'desktop',\n",
    "            'agent' : 'user',\n",
    "            'granularity' : 'monthly',\n",
    "            'start' : '2015070100',\n",
    "            'end' : '2017101000'#use the first day of the following month to ensure a full month of data is collected\n",
    "            }\n",
    "\n",
    "api_call = requests.get(endpoint.format(**params))\n",
    "response_pageviews_desktop = api_call.json()\n",
    "\n",
    "\n",
    "with open('pageviews_desktop_201507_201709.json', 'w') as outfile:\n",
    "    json.dump(response_pageviews_desktop, outfile)\n",
    "    \n"
   ]
  },
  {
   "cell_type": "markdown",
   "metadata": {},
   "source": [
    "## API for pagecounts initiated"
   ]
  },
  {
   "cell_type": "code",
   "execution_count": 887,
   "metadata": {
    "collapsed": true
   },
   "outputs": [],
   "source": [
    "import requests\n",
    "import json\n",
    "import csv\n",
    "endpoint = 'https://wikimedia.org/api/rest_v1/metrics/legacy/pagecounts/aggregate/{project}/{access}/{granularity}/{start}/{end}'\n",
    "\n",
    "headers={'User-Agent' : 'https://github.com/your_github_username', 'From' : 'your_uw_email@uw.edu'}\n",
    "\n",
    "params = {'project' : 'de.wikipedia.org',\n",
    "            'access' : 'desktop-site',\n",
    "            'granularity' : 'monthly',\n",
    "            'start' : '2008060100',\n",
    "            'end' : '2016060100'#use the first day of the following month to ensure a full month of data is collected\n",
    "            }\n",
    "\n",
    "api_call = requests.get(endpoint.format(**params))\n",
    "response_pagecounts_desktop = api_call.json()\n",
    "\n",
    "\n",
    "with open('pagecounts_desktop_200806_201606.json', 'w') as outfile:\n",
    "    json.dump(response_pagecounts_desktop, outfile)\n",
    "    \n"
   ]
  },
  {
   "cell_type": "code",
   "execution_count": 888,
   "metadata": {
    "collapsed": true
   },
   "outputs": [],
   "source": [
    "import requests\n",
    "import json\n",
    "import csv\n",
    "endpoint = 'https://wikimedia.org/api/rest_v1/metrics/legacy/pagecounts/aggregate/{project}/{access}/{granularity}/{start}/{end}'\n",
    "\n",
    "headers={'User-Agent' : 'https://github.com/your_github_username', 'From' : 'your_uw_email@uw.edu'}\n",
    "\n",
    "params = {'project' : 'de.wikipedia.org',\n",
    "            'access' : 'mobile-site',\n",
    "            'granularity' : 'monthly',\n",
    "            'start' : '2008010100',\n",
    "            'end' : '2016060100'#use the first day of the following month to ensure a full month of data is collected\n",
    "            }\n",
    "\n",
    "api_call = requests.get(endpoint.format(**params))\n",
    "response_pagecounts_mobile = api_call.json()\n",
    "\n",
    "\n",
    "with open('pagecounts_mobile_200801_201606.json', 'w') as outfile:\n",
    "    json.dump(response_pagecounts_mobile, outfile)\n",
    "    \n"
   ]
  },
  {
   "cell_type": "code",
   "execution_count": 889,
   "metadata": {
    "collapsed": true
   },
   "outputs": [],
   "source": [
    "(pd.DataFrame.from_dict(data=response_pageviews_mobile_web['items'], orient='columns').\n",
    "to_csv('pageviews_mobile_web_201507_201709.csv', header=True))"
   ]
  },
  {
   "cell_type": "code",
   "execution_count": 890,
   "metadata": {
    "collapsed": true
   },
   "outputs": [],
   "source": [
    "(pd.DataFrame.from_dict(data=response_pageviews_desktop['items'], orient='columns').\n",
    "to_csv('pageviews_desktop_201507_201709.csv', header=True))"
   ]
  },
  {
   "cell_type": "code",
   "execution_count": 891,
   "metadata": {
    "collapsed": true
   },
   "outputs": [],
   "source": [
    "(pd.DataFrame.from_dict(data=response_pageviews_mobile_app['items'], orient='columns').\n",
    "to_csv('pageviews_mobile_app_201507_201709.csv', header=True))"
   ]
  },
  {
   "cell_type": "code",
   "execution_count": 892,
   "metadata": {},
   "outputs": [],
   "source": [
    "(pd.DataFrame.from_dict(data=response_pagecounts_desktop['items'], orient='columns').\n",
    "to_csv('pagecounts_desktop_200801_201606.csv', header=True))"
   ]
  },
  {
   "cell_type": "code",
   "execution_count": 893,
   "metadata": {},
   "outputs": [],
   "source": [
    "(pd.DataFrame.from_dict(data=response_pagecounts_mobile['items'], orient='columns').\n",
    "to_csv('pagecounts_mobile_200801_201606.csv', header=True))"
   ]
  },
  {
   "cell_type": "code",
   "execution_count": 894,
   "metadata": {
    "collapsed": true
   },
   "outputs": [],
   "source": [
    "en_wikipedia_traffic_200801_201709 = pd.DataFrame(columns=['year','month','pagecount_all_views','pagecount_desktop_views','pagecount_mobile_views','pageview_all_views','pageview_desktop_views','pageview_mobile_views'])"
   ]
  },
  {
   "cell_type": "code",
   "execution_count": 895,
   "metadata": {
    "collapsed": true
   },
   "outputs": [],
   "source": [
    "pvmw = pd.read_csv('pageviews_mobile_web_201507_201709.csv')"
   ]
  },
  {
   "cell_type": "code",
   "execution_count": 896,
   "metadata": {},
   "outputs": [],
   "source": [
    "del pvmw['Unnamed: 0']"
   ]
  },
  {
   "cell_type": "code",
   "execution_count": 897,
   "metadata": {},
   "outputs": [],
   "source": [
    "pvma = pd.read_csv('pageviews_mobile_app_201507_201709.csv')"
   ]
  },
  {
   "cell_type": "code",
   "execution_count": 898,
   "metadata": {},
   "outputs": [],
   "source": [
    "del pvma['Unnamed: 0']"
   ]
  },
  {
   "cell_type": "code",
   "execution_count": 899,
   "metadata": {
    "collapsed": true
   },
   "outputs": [],
   "source": [
    "pcd = pd.read_csv('pagecounts_desktop_200801_201606.csv')"
   ]
  },
  {
   "cell_type": "code",
   "execution_count": 900,
   "metadata": {
    "collapsed": true
   },
   "outputs": [],
   "source": [
    "del pcd['Unnamed: 0']"
   ]
  },
  {
   "cell_type": "code",
   "execution_count": 964,
   "metadata": {
    "collapsed": true
   },
   "outputs": [],
   "source": [
    "pcm = pd.read_csv('pagecounts_mobile_200801_201606.csv')"
   ]
  },
  {
   "cell_type": "code",
   "execution_count": 965,
   "metadata": {
    "collapsed": true
   },
   "outputs": [],
   "source": [
    "del pcm['Unnamed: 0']"
   ]
  },
  {
   "cell_type": "code",
   "execution_count": 903,
   "metadata": {},
   "outputs": [],
   "source": [
    "pvd = pd.read_csv('pageviews_desktop_201507_201709.csv')"
   ]
  },
  {
   "cell_type": "code",
   "execution_count": 904,
   "metadata": {},
   "outputs": [],
   "source": [
    "del pvd['Unnamed: 0']"
   ]
  },
  {
   "cell_type": "code",
   "execution_count": 905,
   "metadata": {},
   "outputs": [],
   "source": [
    "views_web = pvmw['views'].values.tolist()"
   ]
  },
  {
   "cell_type": "code",
   "execution_count": 906,
   "metadata": {},
   "outputs": [],
   "source": [
    "views_app = pvma['views'].values.tolist()"
   ]
  },
  {
   "cell_type": "code",
   "execution_count": 907,
   "metadata": {},
   "outputs": [],
   "source": [
    "views_mobile= [x + y for x, y in zip(views_web, views_app)]"
   ]
  },
  {
   "cell_type": "code",
   "execution_count": 908,
   "metadata": {},
   "outputs": [],
   "source": [
    "pvmw['total_views'] = views_mobile"
   ]
  },
  {
   "cell_type": "code",
   "execution_count": 909,
   "metadata": {},
   "outputs": [],
   "source": [
    "year_pcd = pcd['timestamp']"
   ]
  },
  {
   "cell_type": "code",
   "execution_count": 910,
   "metadata": {
    "collapsed": true
   },
   "outputs": [],
   "source": [
    "year_pcm = pcm['timestamp']"
   ]
  },
  {
   "cell_type": "code",
   "execution_count": 911,
   "metadata": {
    "collapsed": true
   },
   "outputs": [],
   "source": [
    "year_pvd = pvd['timestamp']"
   ]
  },
  {
   "cell_type": "code",
   "execution_count": 912,
   "metadata": {
    "collapsed": true
   },
   "outputs": [],
   "source": [
    "year_pvma=pvma['timestamp']"
   ]
  },
  {
   "cell_type": "code",
   "execution_count": 913,
   "metadata": {
    "collapsed": true
   },
   "outputs": [],
   "source": [
    "year_pvmw = pvmw['timestamp']"
   ]
  },
  {
   "cell_type": "code",
   "execution_count": 914,
   "metadata": {},
   "outputs": [],
   "source": [
    "year_pcd = year_pcd.values.tolist()"
   ]
  },
  {
   "cell_type": "code",
   "execution_count": 915,
   "metadata": {},
   "outputs": [],
   "source": [
    "year_pagecountd = []\n",
    "for i in range(0,len(year_pcd)):\n",
    "    year_pagecountd.append(int(year_pcd[i]/10000))"
   ]
  },
  {
   "cell_type": "code",
   "execution_count": 916,
   "metadata": {},
   "outputs": [],
   "source": [
    "year_pcm = year_pcm.values.tolist()\n",
    "year_pagecountm = []\n",
    "for i in range(0,len(year_pcm)):\n",
    "    year_pagecountm.append(int(year_pcm[i]/10000))"
   ]
  },
  {
   "cell_type": "code",
   "execution_count": 917,
   "metadata": {},
   "outputs": [],
   "source": [
    "year_pvd = year_pvd.values.tolist()\n",
    "year_pageviewd = []\n",
    "for i in range(0,len(year_pvd)):\n",
    "    year_pageviewd.append(int(year_pvd[i]/10000))"
   ]
  },
  {
   "cell_type": "code",
   "execution_count": 918,
   "metadata": {},
   "outputs": [],
   "source": [
    "year_pvma = year_pvma.values.tolist()\n",
    "year_pageviewma = []\n",
    "for i in range(0,len(year_pvma)):\n",
    "    year_pageviewma.append(int(year_pvma[i]/10000))"
   ]
  },
  {
   "cell_type": "code",
   "execution_count": 919,
   "metadata": {
    "collapsed": true
   },
   "outputs": [],
   "source": [
    "year_pvmw = year_pvmw.values.tolist()\n",
    "year_pageviewmw = []\n",
    "for i in range(0,len(year_pvmw)):\n",
    "    year_pageviewmw.append(int(year_pvmw[i]/10000))"
   ]
  },
  {
   "cell_type": "code",
   "execution_count": 920,
   "metadata": {
    "collapsed": true
   },
   "outputs": [],
   "source": [
    "year = year_pageviewmw + year_pageviewma + year_pageviewd + year_pagecountm + year_pagecountd"
   ]
  },
  {
   "cell_type": "code",
   "execution_count": 921,
   "metadata": {},
   "outputs": [],
   "source": [
    "en_wikipedia_traffic_200801_201709['year'] = year"
   ]
  },
  {
   "cell_type": "code",
   "execution_count": 922,
   "metadata": {},
   "outputs": [],
   "source": [
    "en_wikipedia_traffic_200801_201709['year'] = en_wikipedia_traffic_200801_201709['year'].drop_duplicates()"
   ]
  },
  {
   "cell_type": "code",
   "execution_count": 923,
   "metadata": {},
   "outputs": [],
   "source": [
    "en_wikipedia_traffic_200801_201709 = en_wikipedia_traffic_200801_201709[np.isfinite(en_wikipedia_traffic_200801_201709['year'])]"
   ]
  },
  {
   "cell_type": "markdown",
   "metadata": {},
   "source": [
    "np.isfinite() is used to remove Nan values"
   ]
  },
  {
   "cell_type": "code",
   "execution_count": 924,
   "metadata": {},
   "outputs": [],
   "source": [
    "en_wikipedia_traffic_200801_201709 = en_wikipedia_traffic_200801_201709.sort_values(by=['year'],ascending=True)"
   ]
  },
  {
   "cell_type": "code",
   "execution_count": 925,
   "metadata": {},
   "outputs": [],
   "source": [
    "year = en_wikipedia_traffic_200801_201709['year'].values.tolist()"
   ]
  },
  {
   "cell_type": "code",
   "execution_count": 926,
   "metadata": {},
   "outputs": [],
   "source": [
    "year = [str(x) for x in year]"
   ]
  },
  {
   "cell_type": "code",
   "execution_count": 927,
   "metadata": {},
   "outputs": [],
   "source": [
    "\n",
    "year = [x[0:6] for x in year]"
   ]
  },
  {
   "cell_type": "markdown",
   "metadata": {},
   "source": [
    "The comprehension is to remove the decimal point"
   ]
  },
  {
   "cell_type": "code",
   "execution_count": 928,
   "metadata": {
    "collapsed": true
   },
   "outputs": [],
   "source": [
    "en_wikipedia_traffic_200801_201709['year'] = year"
   ]
  },
  {
   "cell_type": "code",
   "execution_count": 929,
   "metadata": {},
   "outputs": [],
   "source": [
    "month = [x[4:6] for x in year]"
   ]
  },
  {
   "cell_type": "code",
   "execution_count": 930,
   "metadata": {},
   "outputs": [],
   "source": [
    "en_wikipedia_traffic_200801_201709['month'] = month"
   ]
  },
  {
   "cell_type": "code",
   "execution_count": 931,
   "metadata": {},
   "outputs": [],
   "source": [
    "year = [x[0:4] for x in year]"
   ]
  },
  {
   "cell_type": "code",
   "execution_count": 932,
   "metadata": {
    "collapsed": true
   },
   "outputs": [],
   "source": [
    "en_wikipedia_traffic_200801_201709['year'] = year"
   ]
  },
  {
   "cell_type": "markdown",
   "metadata": {},
   "source": [
    "Correcting the index of the dataframe en_wikipedia_traffic_200801_201709"
   ]
  },
  {
   "cell_type": "code",
   "execution_count": 933,
   "metadata": {
    "collapsed": true
   },
   "outputs": [],
   "source": [
    " = en_wikipedia_traffic_200801_201709.reset_index()"
   ]
  },
  {
   "cell_type": "code",
   "execution_count": 934,
   "metadata": {},
   "outputs": [],
   "source": [
    "del en_wikipedia_traffic_200801_201709['index']"
   ]
  },
  {
   "cell_type": "markdown",
   "metadata": {},
   "source": [
    "### Filling the dataframe with values of page views and counts"
   ]
  },
  {
   "cell_type": "code",
   "execution_count": null,
   "metadata": {},
   "outputs": [],
   "source": []
  },
  {
   "cell_type": "code",
   "execution_count": null,
   "metadata": {},
   "outputs": [],
   "source": []
  },
  {
   "cell_type": "code",
   "execution_count": null,
   "metadata": {},
   "outputs": [],
   "source": []
  },
  {
   "cell_type": "code",
   "execution_count": null,
   "metadata": {},
   "outputs": [],
   "source": [
    "\n"
   ]
  },
  {
   "cell_type": "code",
   "execution_count": null,
   "metadata": {},
   "outputs": [],
   "source": []
  },
  {
   "cell_type": "code",
   "execution_count": null,
   "metadata": {},
   "outputs": [],
   "source": []
  },
  {
   "cell_type": "code",
   "execution_count": null,
   "metadata": {},
   "outputs": [],
   "source": []
  },
  {
   "cell_type": "markdown",
   "metadata": {},
   "source": [
    "To separate year and month for each csv file, created a function to do that."
   ]
  },
  {
   "cell_type": "code",
   "execution_count": 935,
   "metadata": {},
   "outputs": [],
   "source": [
    "def change_csv(df):\n",
    "    df_time = df['timestamp'].values.tolist()\n",
    "    df_time = [str(x) for x in df_time]\n",
    "    df_year=[]\n",
    "    for i in range(0,len(df_time)):\n",
    "        df_year.append(df_time[i][0:4])\n",
    "    df['year'] = df_year\n",
    "    df_month = []\n",
    "    for i in range(0,len(df_time)):\n",
    "        df_month.append(df_time[i][4:6])\n",
    "    df['month'] = df_month\n",
    "    del df['timestamp']\n",
    "    return df"
   ]
  },
  {
   "cell_type": "code",
   "execution_count": 967,
   "metadata": {},
   "outputs": [],
   "source": [
    "pcm = change_csv(pcm)"
   ]
  },
  {
   "cell_type": "code",
   "execution_count": 937,
   "metadata": {},
   "outputs": [],
   "source": [
    "pcd = change_csv(pcd)"
   ]
  },
  {
   "cell_type": "code",
   "execution_count": 938,
   "metadata": {
    "collapsed": true
   },
   "outputs": [],
   "source": [
    "pvmw = change_csv(pvmw)"
   ]
  },
  {
   "cell_type": "code",
   "execution_count": 939,
   "metadata": {
    "collapsed": true
   },
   "outputs": [],
   "source": [
    "pvma = change_csv(pvma)"
   ]
  },
  {
   "cell_type": "code",
   "execution_count": 940,
   "metadata": {
    "collapsed": true
   },
   "outputs": [],
   "source": [
    "pvd = change_csv(pvd)"
   ]
  },
  {
   "cell_type": "code",
   "execution_count": 968,
   "metadata": {},
   "outputs": [],
   "source": [
    "pcm_year = pcm['year'].drop_duplicates()"
   ]
  },
  {
   "cell_type": "code",
   "execution_count": 978,
   "metadata": {},
   "outputs": [],
   "source": [
    "pcm_year = pcm_year.values.tolist()"
   ]
  },
  {
   "cell_type": "code",
   "execution_count": 985,
   "metadata": {},
   "outputs": [
    {
     "name": "stdout",
     "output_type": "stream",
     "text": [
      "76\n",
      "76\n",
      "77\n",
      "90\n",
      "89\n",
      "90\n",
      "91\n",
      "102\n",
      "91\n"
     ]
    }
   ],
   "source": [
    "k=0\n",
    "for j in range(0,len(pcm_year)):\n",
    "    year_pcm = en_wikipedia_traffic_200801_201709.index[en_wikipedia_traffic_200801_201709['year'] == pcm_year[j]].tolist()\n",
    "    for i in range(0,len((pcm['month'].where(pcm['year'] == pcm['year'][j])).dropna())):\n",
    "        month_pcm = en_wikipedia_traffic_200801_201709.index[en_wikipedia_traffic_200801_201709['month'] == pcm['month'][k]].tolist()\n",
    "        com = [name for name in year_pcm if name in month_pcm][0]\n",
    "        #index.append([name for name in year_pcm if name in month_pcm][0])\n",
    "        print(com)\n",
    "        k=i+j"
   ]
  },
  {
   "cell_type": "code",
   "execution_count": 982,
   "metadata": {},
   "outputs": [],
   "source": []
  },
  {
   "cell_type": "code",
   "execution_count": 983,
   "metadata": {},
   "outputs": [
    {
     "data": {
      "text/plain": [
       "[4, 16, 28, 40, 52, 64, 76, 88, 100]"
      ]
     },
     "execution_count": 983,
     "metadata": {},
     "output_type": "execute_result"
    }
   ],
   "source": []
  },
  {
   "cell_type": "code",
   "execution_count": null,
   "metadata": {
    "collapsed": true
   },
   "outputs": [],
   "source": []
  },
  {
   "cell_type": "code",
   "execution_count": 1004,
   "metadata": {},
   "outputs": [
    {
     "data": {
      "text/html": [
       "<div>\n",
       "<style>\n",
       "    .dataframe thead tr:only-child th {\n",
       "        text-align: right;\n",
       "    }\n",
       "\n",
       "    .dataframe thead th {\n",
       "        text-align: left;\n",
       "    }\n",
       "\n",
       "    .dataframe tbody tr th {\n",
       "        vertical-align: top;\n",
       "    }\n",
       "</style>\n",
       "<table border=\"1\" class=\"dataframe\">\n",
       "  <thead>\n",
       "    <tr style=\"text-align: right;\">\n",
       "      <th></th>\n",
       "      <th>access-site</th>\n",
       "      <th>count</th>\n",
       "      <th>granularity</th>\n",
       "      <th>project</th>\n",
       "      <th>year</th>\n",
       "      <th>month</th>\n",
       "    </tr>\n",
       "  </thead>\n",
       "  <tbody>\n",
       "    <tr>\n",
       "      <th>0</th>\n",
       "      <td>mobile-site</td>\n",
       "      <td>344883349</td>\n",
       "      <td>monthly</td>\n",
       "      <td>de.wikipedia</td>\n",
       "      <td>2014</td>\n",
       "      <td>10</td>\n",
       "    </tr>\n",
       "    <tr>\n",
       "      <th>1</th>\n",
       "      <td>mobile-site</td>\n",
       "      <td>353389367</td>\n",
       "      <td>monthly</td>\n",
       "      <td>de.wikipedia</td>\n",
       "      <td>2014</td>\n",
       "      <td>11</td>\n",
       "    </tr>\n",
       "    <tr>\n",
       "      <th>2</th>\n",
       "      <td>mobile-site</td>\n",
       "      <td>402028431</td>\n",
       "      <td>monthly</td>\n",
       "      <td>de.wikipedia</td>\n",
       "      <td>2014</td>\n",
       "      <td>12</td>\n",
       "    </tr>\n",
       "    <tr>\n",
       "      <th>3</th>\n",
       "      <td>mobile-site</td>\n",
       "      <td>432068795</td>\n",
       "      <td>monthly</td>\n",
       "      <td>de.wikipedia</td>\n",
       "      <td>2015</td>\n",
       "      <td>01</td>\n",
       "    </tr>\n",
       "    <tr>\n",
       "      <th>4</th>\n",
       "      <td>mobile-site</td>\n",
       "      <td>367256224</td>\n",
       "      <td>monthly</td>\n",
       "      <td>de.wikipedia</td>\n",
       "      <td>2015</td>\n",
       "      <td>02</td>\n",
       "    </tr>\n",
       "    <tr>\n",
       "      <th>5</th>\n",
       "      <td>mobile-site</td>\n",
       "      <td>393215871</td>\n",
       "      <td>monthly</td>\n",
       "      <td>de.wikipedia</td>\n",
       "      <td>2015</td>\n",
       "      <td>03</td>\n",
       "    </tr>\n",
       "    <tr>\n",
       "      <th>6</th>\n",
       "      <td>mobile-site</td>\n",
       "      <td>387534625</td>\n",
       "      <td>monthly</td>\n",
       "      <td>de.wikipedia</td>\n",
       "      <td>2015</td>\n",
       "      <td>04</td>\n",
       "    </tr>\n",
       "    <tr>\n",
       "      <th>7</th>\n",
       "      <td>mobile-site</td>\n",
       "      <td>407241925</td>\n",
       "      <td>monthly</td>\n",
       "      <td>de.wikipedia</td>\n",
       "      <td>2015</td>\n",
       "      <td>05</td>\n",
       "    </tr>\n",
       "    <tr>\n",
       "      <th>8</th>\n",
       "      <td>mobile-site</td>\n",
       "      <td>377435822</td>\n",
       "      <td>monthly</td>\n",
       "      <td>de.wikipedia</td>\n",
       "      <td>2015</td>\n",
       "      <td>06</td>\n",
       "    </tr>\n",
       "    <tr>\n",
       "      <th>9</th>\n",
       "      <td>mobile-site</td>\n",
       "      <td>358603363</td>\n",
       "      <td>monthly</td>\n",
       "      <td>de.wikipedia</td>\n",
       "      <td>2015</td>\n",
       "      <td>07</td>\n",
       "    </tr>\n",
       "    <tr>\n",
       "      <th>10</th>\n",
       "      <td>mobile-site</td>\n",
       "      <td>375028917</td>\n",
       "      <td>monthly</td>\n",
       "      <td>de.wikipedia</td>\n",
       "      <td>2015</td>\n",
       "      <td>08</td>\n",
       "    </tr>\n",
       "    <tr>\n",
       "      <th>11</th>\n",
       "      <td>mobile-site</td>\n",
       "      <td>372983116</td>\n",
       "      <td>monthly</td>\n",
       "      <td>de.wikipedia</td>\n",
       "      <td>2015</td>\n",
       "      <td>09</td>\n",
       "    </tr>\n",
       "    <tr>\n",
       "      <th>12</th>\n",
       "      <td>mobile-site</td>\n",
       "      <td>393332970</td>\n",
       "      <td>monthly</td>\n",
       "      <td>de.wikipedia</td>\n",
       "      <td>2015</td>\n",
       "      <td>10</td>\n",
       "    </tr>\n",
       "    <tr>\n",
       "      <th>13</th>\n",
       "      <td>mobile-site</td>\n",
       "      <td>414658675</td>\n",
       "      <td>monthly</td>\n",
       "      <td>de.wikipedia</td>\n",
       "      <td>2015</td>\n",
       "      <td>11</td>\n",
       "    </tr>\n",
       "    <tr>\n",
       "      <th>14</th>\n",
       "      <td>mobile-site</td>\n",
       "      <td>444183878</td>\n",
       "      <td>monthly</td>\n",
       "      <td>de.wikipedia</td>\n",
       "      <td>2015</td>\n",
       "      <td>12</td>\n",
       "    </tr>\n",
       "    <tr>\n",
       "      <th>15</th>\n",
       "      <td>mobile-site</td>\n",
       "      <td>494697322</td>\n",
       "      <td>monthly</td>\n",
       "      <td>de.wikipedia</td>\n",
       "      <td>2016</td>\n",
       "      <td>01</td>\n",
       "    </tr>\n",
       "    <tr>\n",
       "      <th>16</th>\n",
       "      <td>mobile-site</td>\n",
       "      <td>421916957</td>\n",
       "      <td>monthly</td>\n",
       "      <td>de.wikipedia</td>\n",
       "      <td>2016</td>\n",
       "      <td>02</td>\n",
       "    </tr>\n",
       "    <tr>\n",
       "      <th>17</th>\n",
       "      <td>mobile-site</td>\n",
       "      <td>444011240</td>\n",
       "      <td>monthly</td>\n",
       "      <td>de.wikipedia</td>\n",
       "      <td>2016</td>\n",
       "      <td>03</td>\n",
       "    </tr>\n",
       "    <tr>\n",
       "      <th>18</th>\n",
       "      <td>mobile-site</td>\n",
       "      <td>412858412</td>\n",
       "      <td>monthly</td>\n",
       "      <td>de.wikipedia</td>\n",
       "      <td>2016</td>\n",
       "      <td>04</td>\n",
       "    </tr>\n",
       "    <tr>\n",
       "      <th>19</th>\n",
       "      <td>mobile-site</td>\n",
       "      <td>421325446</td>\n",
       "      <td>monthly</td>\n",
       "      <td>de.wikipedia</td>\n",
       "      <td>2016</td>\n",
       "      <td>05</td>\n",
       "    </tr>\n",
       "  </tbody>\n",
       "</table>\n",
       "</div>"
      ],
      "text/plain": [
       "    access-site      count granularity       project  year month\n",
       "0   mobile-site  344883349     monthly  de.wikipedia  2014    10\n",
       "1   mobile-site  353389367     monthly  de.wikipedia  2014    11\n",
       "2   mobile-site  402028431     monthly  de.wikipedia  2014    12\n",
       "3   mobile-site  432068795     monthly  de.wikipedia  2015    01\n",
       "4   mobile-site  367256224     monthly  de.wikipedia  2015    02\n",
       "5   mobile-site  393215871     monthly  de.wikipedia  2015    03\n",
       "6   mobile-site  387534625     monthly  de.wikipedia  2015    04\n",
       "7   mobile-site  407241925     monthly  de.wikipedia  2015    05\n",
       "8   mobile-site  377435822     monthly  de.wikipedia  2015    06\n",
       "9   mobile-site  358603363     monthly  de.wikipedia  2015    07\n",
       "10  mobile-site  375028917     monthly  de.wikipedia  2015    08\n",
       "11  mobile-site  372983116     monthly  de.wikipedia  2015    09\n",
       "12  mobile-site  393332970     monthly  de.wikipedia  2015    10\n",
       "13  mobile-site  414658675     monthly  de.wikipedia  2015    11\n",
       "14  mobile-site  444183878     monthly  de.wikipedia  2015    12\n",
       "15  mobile-site  494697322     monthly  de.wikipedia  2016    01\n",
       "16  mobile-site  421916957     monthly  de.wikipedia  2016    02\n",
       "17  mobile-site  444011240     monthly  de.wikipedia  2016    03\n",
       "18  mobile-site  412858412     monthly  de.wikipedia  2016    04\n",
       "19  mobile-site  421325446     monthly  de.wikipedia  2016    05"
      ]
     },
     "execution_count": 1004,
     "metadata": {},
     "output_type": "execute_result"
    }
   ],
   "source": [
    "pcm"
   ]
  },
  {
   "cell_type": "code",
   "execution_count": 1003,
   "metadata": {},
   "outputs": [],
   "source": [
    "df = pcm.merge(pcd, on='granularity')"
   ]
  },
  {
   "cell_type": "code",
   "execution_count": 999,
   "metadata": {},
   "outputs": [],
   "source": [
    "all_dfs = [pcd, pcm]\n",
    "for df in all_dfs:\n",
    "    df.columns = ['access-site', 'count','granularity','project','year','month']"
   ]
  },
  {
   "cell_type": "code",
   "execution_count": 996,
   "metadata": {},
   "outputs": [],
   "source": [
    "all_dfs = pd.concat(all_dfs).reset_index(drop=True)"
   ]
  },
  {
   "cell_type": "code",
   "execution_count": 1000,
   "metadata": {},
   "outputs": [
    {
     "data": {
      "text/plain": [
       "[     access-site       count granularity       project  year month\n",
       " 0   desktop-site   825055354     monthly  de.wikipedia  2008    06\n",
       " 1   desktop-site   780369890     monthly  de.wikipedia  2008    07\n",
       " 2   desktop-site   804302071     monthly  de.wikipedia  2008    08\n",
       " 3   desktop-site   817672904     monthly  de.wikipedia  2008    09\n",
       " 4   desktop-site   855432765     monthly  de.wikipedia  2008    10\n",
       " 5   desktop-site  1007854264     monthly  de.wikipedia  2008    11\n",
       " 6   desktop-site  1482076522     monthly  de.wikipedia  2008    12\n",
       " 7   desktop-site  1313287179     monthly  de.wikipedia  2009    01\n",
       " 8   desktop-site   916254643     monthly  de.wikipedia  2009    02\n",
       " 9   desktop-site  1010935249     monthly  de.wikipedia  2009    03\n",
       " 10  desktop-site   816911070     monthly  de.wikipedia  2009    04\n",
       " 11  desktop-site   900827289     monthly  de.wikipedia  2009    05\n",
       " 12  desktop-site   908943732     monthly  de.wikipedia  2009    06\n",
       " 13  desktop-site   846000568     monthly  de.wikipedia  2009    07\n",
       " 14  desktop-site   839851733     monthly  de.wikipedia  2009    08\n",
       " 15  desktop-site   602992497     monthly  de.wikipedia  2009    09\n",
       " 16  desktop-site   880828772     monthly  de.wikipedia  2009    10\n",
       " 17  desktop-site   892473405     monthly  de.wikipedia  2009    11\n",
       " 18  desktop-site   783921314     monthly  de.wikipedia  2009    12\n",
       " 19  desktop-site   888038285     monthly  de.wikipedia  2010    01\n",
       " 20  desktop-site   823448165     monthly  de.wikipedia  2010    02\n",
       " 21  desktop-site   836322180     monthly  de.wikipedia  2010    03\n",
       " 22  desktop-site   771419721     monthly  de.wikipedia  2010    04\n",
       " 23  desktop-site   778512486     monthly  de.wikipedia  2010    05\n",
       " 24  desktop-site   596213096     monthly  de.wikipedia  2010    06\n",
       " 25  desktop-site   631180879     monthly  de.wikipedia  2010    07\n",
       " 26  desktop-site   952332186     monthly  de.wikipedia  2010    08\n",
       " 27  desktop-site  1040867552     monthly  de.wikipedia  2010    09\n",
       " 28  desktop-site  1627809061     monthly  de.wikipedia  2010    10\n",
       " 29  desktop-site   995628729     monthly  de.wikipedia  2010    11\n",
       " ..           ...         ...         ...           ...   ...   ...\n",
       " 66  desktop-site   841118438     monthly  de.wikipedia  2013    12\n",
       " 67  desktop-site   974435535     monthly  de.wikipedia  2014    01\n",
       " 68  desktop-site   947693748     monthly  de.wikipedia  2014    02\n",
       " 69  desktop-site   982222158     monthly  de.wikipedia  2014    03\n",
       " 70  desktop-site   895164141     monthly  de.wikipedia  2014    04\n",
       " 71  desktop-site   904509427     monthly  de.wikipedia  2014    05\n",
       " 72  desktop-site   841901684     monthly  de.wikipedia  2014    06\n",
       " 73  desktop-site   879262963     monthly  de.wikipedia  2014    07\n",
       " 74  desktop-site   859268987     monthly  de.wikipedia  2014    08\n",
       " 75  desktop-site   881982739     monthly  de.wikipedia  2014    09\n",
       " 76  desktop-site   848030024     monthly  de.wikipedia  2014    10\n",
       " 77  desktop-site   804898233     monthly  de.wikipedia  2014    11\n",
       " 78  desktop-site   788673535     monthly  de.wikipedia  2014    12\n",
       " 79  desktop-site   886129940     monthly  de.wikipedia  2015    01\n",
       " 80  desktop-site   762718055     monthly  de.wikipedia  2015    02\n",
       " 81  desktop-site   850583285     monthly  de.wikipedia  2015    03\n",
       " 82  desktop-site   791575519     monthly  de.wikipedia  2015    04\n",
       " 83  desktop-site   767545864     monthly  de.wikipedia  2015    05\n",
       " 84  desktop-site   724286442     monthly  de.wikipedia  2015    06\n",
       " 85  desktop-site   683638190     monthly  de.wikipedia  2015    07\n",
       " 86  desktop-site   653685687     monthly  de.wikipedia  2015    08\n",
       " 87  desktop-site   681258530     monthly  de.wikipedia  2015    09\n",
       " 88  desktop-site   716888880     monthly  de.wikipedia  2015    10\n",
       " 89  desktop-site   739649354     monthly  de.wikipedia  2015    11\n",
       " 90  desktop-site   678535575     monthly  de.wikipedia  2015    12\n",
       " 91  desktop-site   787957647     monthly  de.wikipedia  2016    01\n",
       " 92  desktop-site   724540330     monthly  de.wikipedia  2016    02\n",
       " 93  desktop-site   719295474     monthly  de.wikipedia  2016    03\n",
       " 94  desktop-site   703630566     monthly  de.wikipedia  2016    04\n",
       " 95  desktop-site   678546194     monthly  de.wikipedia  2016    05\n",
       " \n",
       " [96 rows x 6 columns],\n",
       "     access-site      count granularity       project  year month\n",
       " 0   mobile-site  344883349     monthly  de.wikipedia  2014    10\n",
       " 1   mobile-site  353389367     monthly  de.wikipedia  2014    11\n",
       " 2   mobile-site  402028431     monthly  de.wikipedia  2014    12\n",
       " 3   mobile-site  432068795     monthly  de.wikipedia  2015    01\n",
       " 4   mobile-site  367256224     monthly  de.wikipedia  2015    02\n",
       " 5   mobile-site  393215871     monthly  de.wikipedia  2015    03\n",
       " 6   mobile-site  387534625     monthly  de.wikipedia  2015    04\n",
       " 7   mobile-site  407241925     monthly  de.wikipedia  2015    05\n",
       " 8   mobile-site  377435822     monthly  de.wikipedia  2015    06\n",
       " 9   mobile-site  358603363     monthly  de.wikipedia  2015    07\n",
       " 10  mobile-site  375028917     monthly  de.wikipedia  2015    08\n",
       " 11  mobile-site  372983116     monthly  de.wikipedia  2015    09\n",
       " 12  mobile-site  393332970     monthly  de.wikipedia  2015    10\n",
       " 13  mobile-site  414658675     monthly  de.wikipedia  2015    11\n",
       " 14  mobile-site  444183878     monthly  de.wikipedia  2015    12\n",
       " 15  mobile-site  494697322     monthly  de.wikipedia  2016    01\n",
       " 16  mobile-site  421916957     monthly  de.wikipedia  2016    02\n",
       " 17  mobile-site  444011240     monthly  de.wikipedia  2016    03\n",
       " 18  mobile-site  412858412     monthly  de.wikipedia  2016    04\n",
       " 19  mobile-site  421325446     monthly  de.wikipedia  2016    05]"
      ]
     },
     "execution_count": 1000,
     "metadata": {},
     "output_type": "execute_result"
    }
   ],
   "source": [
    "all_dfs"
   ]
  },
  {
   "cell_type": "code",
   "execution_count": null,
   "metadata": {
    "collapsed": true
   },
   "outputs": [],
   "source": []
  }
 ],
 "metadata": {
  "kernelspec": {
   "display_name": "Python 3",
   "language": "python",
   "name": "python3"
  },
  "language_info": {
   "codemirror_mode": {
    "name": "ipython",
    "version": 3
   },
   "file_extension": ".py",
   "mimetype": "text/x-python",
   "name": "python",
   "nbconvert_exporter": "python",
   "pygments_lexer": "ipython3",
   "version": "3.6.1"
  }
 },
 "nbformat": 4,
 "nbformat_minor": 2
}
