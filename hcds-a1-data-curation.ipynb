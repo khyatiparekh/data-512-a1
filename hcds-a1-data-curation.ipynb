{
 "cells": [
  {
   "cell_type": "markdown",
   "metadata": {
    "collapsed": true
   },
   "source": [
    "## English Wikipedia View analysis for 2008-2017"
   ]
  },
  {
   "cell_type": "markdown",
   "metadata": {},
   "source": [
    "The data is obtained through an API created by the wikimedia foundation enabling us to access the traffic data for mobile-web, mobile-app and desktop respectively"
   ]
  },
  {
   "cell_type": "markdown",
   "metadata": {},
   "source": [
    "### Step 1: Data acquisition\n",
    "We will collect monthly data on web traffic to English Wikipedia from two Wikipedia APIs and save the data in JSON files. We will make five API calls and then save the JSON results into five separate JSON data files. We will make the API requests in python code below, but these are the complete URLs for all five API requests:\n"
   ]
  },
  {
   "cell_type": "code",
   "execution_count": 69,
   "metadata": {
    "collapsed": true
   },
   "outputs": [],
   "source": [
    "import requests\n",
    "import json\n",
    "import csv\n",
    "import numpy as np\n",
    "import pandas as pd\n",
    "endpoint = 'https://wikimedia.org/api/rest_v1/metrics/pageviews/aggregate/{project}/{access}/{agent}/{granularity}/{start}/{end}'\n",
    "\n",
    "headers={'User-Agent' : 'https://github.com/your_github_username', 'From' : 'your_uw_email@uw.edu'}\n",
    "\n",
    "params = {'project' : 'en.wikipedia.org',\n",
    "            'access' : 'mobile-web',\n",
    "            'agent' : 'user',\n",
    "            'granularity' : 'monthly',\n",
    "            'start' : '2015070100',\n",
    "            'end' : '2017101000'#use the first day of the following month to ensure a full month of data is collected\n",
    "            }\n",
    "\n",
    "api_call = requests.get(endpoint.format(**params))\n",
    "response_pageviews_mobile_web = api_call.json()\n",
    "\n",
    "\n",
    "with open('pageviews_mobile_web_201507_201709.json', 'w') as outfile:\n",
    "    json.dump(response_pageviews_mobile_web, outfile)\n",
    "    \n"
   ]
  },
  {
   "cell_type": "code",
   "execution_count": 70,
   "metadata": {
    "collapsed": true
   },
   "outputs": [],
   "source": [
    "import requests\n",
    "import json\n",
    "import csv\n",
    "endpoint = 'https://wikimedia.org/api/rest_v1/metrics/pageviews/aggregate/{project}/{access}/{agent}/{granularity}/{start}/{end}'\n",
    "\n",
    "headers={'User-Agent' : 'https://github.com/your_github_username', 'From' : 'your_uw_email@uw.edu'}\n",
    "\n",
    "params = {'project' : 'en.wikipedia.org',\n",
    "            'access' : 'mobile-app',\n",
    "            'agent' : 'user',\n",
    "            'granularity' : 'monthly',\n",
    "            'start' : '2015070100',\n",
    "            'end' : '2017101000'#use the first day of the following month to ensure a full month of data is collected\n",
    "            }\n",
    "\n",
    "api_call = requests.get(endpoint.format(**params))\n",
    "response_pageviews_mobile_app = api_call.json()\n",
    "\n",
    "\n",
    "with open('pageviews_mobile_app_201507_201709.json', 'w') as outfile:\n",
    "    json.dump(response_pageviews_mobile_app, outfile)\n",
    "    \n"
   ]
  },
  {
   "cell_type": "code",
   "execution_count": 71,
   "metadata": {
    "collapsed": true
   },
   "outputs": [],
   "source": [
    "import requests\n",
    "import json\n",
    "import csv\n",
    "endpoint = 'https://wikimedia.org/api/rest_v1/metrics/pageviews/aggregate/{project}/{access}/{agent}/{granularity}/{start}/{end}'\n",
    "\n",
    "headers={'User-Agent' : 'https://github.com/your_github_username', 'From' : 'your_uw_email@uw.edu'}\n",
    "\n",
    "params = {'project' : 'en.wikipedia.org',\n",
    "            'access' : 'desktop',\n",
    "            'agent' : 'user',\n",
    "            'granularity' : 'monthly',\n",
    "            'start' : '2015070100',\n",
    "            'end' : '2017101000'#use the first day of the following month to ensure a full month of data is collected\n",
    "            }\n",
    "\n",
    "api_call = requests.get(endpoint.format(**params))\n",
    "response_pageviews_desktop = api_call.json()\n",
    "\n",
    "\n",
    "with open('pageviews_desktop_201507_201709.json', 'w') as outfile:\n",
    "    json.dump(response_pageviews_desktop, outfile)\n",
    "    \n"
   ]
  },
  {
   "cell_type": "markdown",
   "metadata": {},
   "source": [
    "## API for pagecounts initiated"
   ]
  },
  {
   "cell_type": "code",
   "execution_count": 72,
   "metadata": {
    "collapsed": true
   },
   "outputs": [],
   "source": [
    "import requests\n",
    "import json\n",
    "import csv\n",
    "endpoint = 'https://wikimedia.org/api/rest_v1/metrics/legacy/pagecounts/aggregate/{project}/{access}/{granularity}/{start}/{end}'\n",
    "\n",
    "headers={'User-Agent' : 'https://github.com/your_github_username', 'From' : 'your_uw_email@uw.edu'}\n",
    "\n",
    "params = {'project' : 'de.wikipedia.org',\n",
    "            'access' : 'desktop-site',\n",
    "            'granularity' : 'monthly',\n",
    "            'start' : '2008060100',\n",
    "            'end' : '2016060100'#use the first day of the following month to ensure a full month of data is collected\n",
    "            }\n",
    "\n",
    "api_call = requests.get(endpoint.format(**params))\n",
    "response_pagecounts_desktop = api_call.json()\n",
    "\n",
    "\n",
    "with open('pagecounts_desktop_200806_201606.json', 'w') as outfile:\n",
    "    json.dump(response_pagecounts_desktop, outfile)\n",
    "    \n"
   ]
  },
  {
   "cell_type": "code",
   "execution_count": 73,
   "metadata": {
    "collapsed": true
   },
   "outputs": [],
   "source": [
    "import requests\n",
    "import json\n",
    "import csv\n",
    "endpoint = 'https://wikimedia.org/api/rest_v1/metrics/legacy/pagecounts/aggregate/{project}/{access}/{granularity}/{start}/{end}'\n",
    "\n",
    "headers={'User-Agent' : 'https://github.com/your_github_username', 'From' : 'your_uw_email@uw.edu'}\n",
    "\n",
    "params = {'project' : 'de.wikipedia.org',\n",
    "            'access' : 'mobile-site',\n",
    "            'granularity' : 'monthly',\n",
    "            'start' : '2008010100',\n",
    "            'end' : '2016060100'#use the first day of the following month to ensure a full month of data is collected\n",
    "            }\n",
    "\n",
    "api_call = requests.get(endpoint.format(**params))\n",
    "response_pagecounts_mobile = api_call.json()\n",
    "\n",
    "\n",
    "with open('pagecounts_mobile_200801_201606.json', 'w') as outfile:\n",
    "    json.dump(response_pagecounts_mobile, outfile)\n",
    "    \n"
   ]
  },
  {
   "cell_type": "markdown",
   "metadata": {},
   "source": [
    "### Step 2: Data processing\n",
    "In this step, we perform a series of processing steps on the saved JSON data files generated by the API requests. This processing is being done to prepare the data for analysis and combine the relevant features into a single CSV-formatted data file.\n"
   ]
  },
  {
   "cell_type": "markdown",
   "metadata": {},
   "source": [
    "In the following cells, I have converted the JSON files to csv files"
   ]
  },
  {
   "cell_type": "code",
   "execution_count": 74,
   "metadata": {
    "collapsed": true
   },
   "outputs": [],
   "source": [
    "(pd.DataFrame.from_dict(data=response_pageviews_mobile_web['items'], orient='columns').\n",
    "to_csv('pageviews_mobile_web_201507_201709.csv', header=True))"
   ]
  },
  {
   "cell_type": "code",
   "execution_count": 75,
   "metadata": {
    "collapsed": true
   },
   "outputs": [],
   "source": [
    "(pd.DataFrame.from_dict(data=response_pageviews_desktop['items'], orient='columns').\n",
    "to_csv('pageviews_desktop_201507_201709.csv', header=True))"
   ]
  },
  {
   "cell_type": "code",
   "execution_count": 76,
   "metadata": {
    "collapsed": true
   },
   "outputs": [],
   "source": [
    "(pd.DataFrame.from_dict(data=response_pageviews_mobile_app['items'], orient='columns').\n",
    "to_csv('pageviews_mobile_app_201507_201709.csv', header=True))"
   ]
  },
  {
   "cell_type": "code",
   "execution_count": 77,
   "metadata": {
    "collapsed": true
   },
   "outputs": [],
   "source": [
    "(pd.DataFrame.from_dict(data=response_pagecounts_desktop['items'], orient='columns').\n",
    "to_csv('pagecounts_desktop_200801_201606.csv', header=True))"
   ]
  },
  {
   "cell_type": "code",
   "execution_count": 78,
   "metadata": {
    "collapsed": true
   },
   "outputs": [],
   "source": [
    "(pd.DataFrame.from_dict(data=response_pagecounts_mobile['items'], orient='columns').\n",
    "to_csv('pagecounts_mobile_200801_201606.csv', header=True))"
   ]
  },
  {
   "cell_type": "markdown",
   "metadata": {},
   "source": [
    "### Giving names based on acronyms of the type of data.     \n",
    "Naming convention:    \n",
    "pvmw = pageview mobile-web  \n",
    "  pvma = pageview mobile app  \n",
    "pcd = pagecount desktop  \n",
    "pcm = pagecount mobile"
   ]
  },
  {
   "cell_type": "code",
   "execution_count": 79,
   "metadata": {
    "collapsed": true
   },
   "outputs": [],
   "source": [
    "pvmw = pd.read_csv('pageviews_mobile_web_201507_201709.csv')"
   ]
  },
  {
   "cell_type": "code",
   "execution_count": 80,
   "metadata": {
    "collapsed": true
   },
   "outputs": [],
   "source": [
    "# To remove extra column since on doing read_csv, the column 'Unnamed: 0' is automatically added to the dataframe\n",
    "del pvmw['Unnamed: 0']"
   ]
  },
  {
   "cell_type": "code",
   "execution_count": 81,
   "metadata": {
    "collapsed": true
   },
   "outputs": [],
   "source": [
    "pvma = pd.read_csv('pageviews_mobile_app_201507_201709.csv')"
   ]
  },
  {
   "cell_type": "code",
   "execution_count": 82,
   "metadata": {
    "collapsed": true
   },
   "outputs": [],
   "source": [
    "del pvma['Unnamed: 0']"
   ]
  },
  {
   "cell_type": "code",
   "execution_count": 83,
   "metadata": {
    "collapsed": true
   },
   "outputs": [],
   "source": [
    "pcd = pd.read_csv('pagecounts_desktop_200801_201606.csv')"
   ]
  },
  {
   "cell_type": "code",
   "execution_count": 84,
   "metadata": {
    "collapsed": true
   },
   "outputs": [],
   "source": [
    "del pcd['Unnamed: 0']"
   ]
  },
  {
   "cell_type": "code",
   "execution_count": 85,
   "metadata": {
    "collapsed": true
   },
   "outputs": [],
   "source": [
    "pcm = pd.read_csv('pagecounts_mobile_200801_201606.csv')"
   ]
  },
  {
   "cell_type": "code",
   "execution_count": 86,
   "metadata": {
    "collapsed": true
   },
   "outputs": [],
   "source": [
    "del pcm['Unnamed: 0']"
   ]
  },
  {
   "cell_type": "code",
   "execution_count": 87,
   "metadata": {
    "collapsed": true
   },
   "outputs": [],
   "source": [
    "pvd = pd.read_csv('pageviews_desktop_201507_201709.csv')"
   ]
  },
  {
   "cell_type": "code",
   "execution_count": 88,
   "metadata": {
    "collapsed": true
   },
   "outputs": [],
   "source": [
    "del pvd['Unnamed: 0']"
   ]
  },
  {
   "cell_type": "code",
   "execution_count": null,
   "metadata": {
    "collapsed": true
   },
   "outputs": [],
   "source": []
  },
  {
   "cell_type": "markdown",
   "metadata": {},
   "source": [
    "### Filling the dataframe with values of page views and counts"
   ]
  },
  {
   "cell_type": "markdown",
   "metadata": {},
   "source": [
    "To separate year and month for each csv file, created a function to do that."
   ]
  },
  {
   "cell_type": "code",
   "execution_count": 89,
   "metadata": {
    "collapsed": true
   },
   "outputs": [],
   "source": [
    "def change_csv(df):\n",
    "    df_time = df['timestamp'].values.tolist()\n",
    "    df_time = [str(x) for x in df_time]\n",
    "    df_year=[]\n",
    "    for i in range(0,len(df_time)):\n",
    "        df_year.append(df_time[i][0:4])\n",
    "    df['year'] = df_year\n",
    "    df_month = []\n",
    "    for i in range(0,len(df_time)):\n",
    "        df_month.append(df_time[i][4:6])\n",
    "    df['month'] = df_month\n",
    "    del df['timestamp']\n",
    "    return df"
   ]
  },
  {
   "cell_type": "markdown",
   "metadata": {},
   "source": [
    "Changed all dataframes to dfs with year and month separated"
   ]
  },
  {
   "cell_type": "code",
   "execution_count": 90,
   "metadata": {
    "collapsed": true
   },
   "outputs": [],
   "source": [
    "pcm = change_csv(pcm)"
   ]
  },
  {
   "cell_type": "code",
   "execution_count": 91,
   "metadata": {
    "collapsed": true
   },
   "outputs": [],
   "source": [
    "pcd = change_csv(pcd)"
   ]
  },
  {
   "cell_type": "code",
   "execution_count": 92,
   "metadata": {
    "collapsed": true
   },
   "outputs": [],
   "source": [
    "pvmw = change_csv(pvmw)"
   ]
  },
  {
   "cell_type": "code",
   "execution_count": 93,
   "metadata": {
    "collapsed": true
   },
   "outputs": [],
   "source": [
    "pvma = change_csv(pvma)"
   ]
  },
  {
   "cell_type": "code",
   "execution_count": 94,
   "metadata": {
    "collapsed": true
   },
   "outputs": [],
   "source": [
    "pvd = change_csv(pvd)"
   ]
  },
  {
   "cell_type": "markdown",
   "metadata": {},
   "source": [
    "Dropping any unnecessary columns to avoid too many columns in the intermediate dataframes while merging"
   ]
  },
  {
   "cell_type": "code",
   "execution_count": null,
   "metadata": {
    "collapsed": true
   },
   "outputs": [],
   "source": []
  },
  {
   "cell_type": "markdown",
   "metadata": {},
   "source": [
    "### Making final dataframe"
   ]
  },
  {
   "cell_type": "code",
   "execution_count": 95,
   "metadata": {
    "collapsed": true
   },
   "outputs": [],
   "source": [
    "#Merging pagecount mobile and pagecount desktop and replacing Nan values with 0\n",
    "pc = pcm.merge(pcd, on=['year','month'],how='outer')\n",
    "\n",
    "pc= pc.fillna(0)\n",
    "\n"
   ]
  },
  {
   "cell_type": "code",
   "execution_count": 96,
   "metadata": {
    "collapsed": true
   },
   "outputs": [],
   "source": [
    "# To calculate total views\n",
    "pc[\"pagecount_all_views\"] = pc['count_y'] + pc['count_x']\n",
    "\n",
    "#Merging pageview mobile and pageview desktop and replacing Nan values with 0\n",
    "mo = pvmw.merge(pvma,on=['year','month'],how='outer')\n",
    "\n",
    "mo[\"pageview_mobile_views\"] = mo[\"views_x\"] + mo[\"views_y\"]  \n"
   ]
  },
  {
   "cell_type": "code",
   "execution_count": 97,
   "metadata": {
    "collapsed": true
   },
   "outputs": [],
   "source": [
    "pv = mo.merge(pvd, how='outer',on=[\"year\", \"month\"])\n",
    "\n",
    "pv = pv.fillna(0)\n"
   ]
  },
  {
   "cell_type": "code",
   "execution_count": 98,
   "metadata": {},
   "outputs": [],
   "source": [
    "#To get total views\n",
    "pv[\"pageview_all_views\"] =  pv[\"pageview_mobile_views\"] + pv[\"views_x\"]\n",
    "\n",
    "mo.drop([\"views_x\", \"views_y\"],axis=1,inplace=True)\n",
    "\n",
    "#Combining both pagecount and pageview dataframes to make the final dataframe\n",
    "final = pc.merge(pv, how='outer',on=[\"year\", \"month\"])\n",
    "\n",
    "final = final[[\"year\", \"month\", \"pagecount_all_views\",\"count_y\", \"count_x\",\"pageview_all_views\", \"views\",\n",
    "\"pageview_mobile_views\"]]\n",
    "\n",
    "final = final.fillna(0)\n",
    "\n",
    "final.to_csv('en_wikipedia_traffic_200801_201709 .csv')"
   ]
  },
  {
   "cell_type": "markdown",
   "metadata": {},
   "source": [
    "## Analysis"
   ]
  },
  {
   "cell_type": "markdown",
   "metadata": {},
   "source": [
    "In this part, I have plotted the timeseries graph using matplotlib"
   ]
  },
  {
   "cell_type": "code",
   "execution_count": 99,
   "metadata": {
    "collapsed": true
   },
   "outputs": [],
   "source": [
    "import matplotlib.pyplot as plt\n",
    "import pandas as pd\n",
    "import datetime as dt"
   ]
  },
  {
   "cell_type": "code",
   "execution_count": 100,
   "metadata": {
    "collapsed": true
   },
   "outputs": [],
   "source": [
    "#Creating a date range for the x-axis\n",
    "daterange = pd.date_range('2008-01', '2017-05',freq='M')"
   ]
  },
  {
   "cell_type": "code",
   "execution_count": 101,
   "metadata": {
    "collapsed": true
   },
   "outputs": [],
   "source": [
    "x = daterange\n"
   ]
  },
  {
   "cell_type": "code",
   "execution_count": null,
   "metadata": {
    "collapsed": true
   },
   "outputs": [],
   "source": []
  },
  {
   "cell_type": "code",
   "execution_count": 102,
   "metadata": {},
   "outputs": [
    {
     "data": {
      "image/png": "[encoded data removed]",
      "text/plain": [
       "<matplotlib.figure.Figure at 0x10cd00dd8>"
      ]
     },
     "metadata": {},
     "output_type": "display_data"
    }
   ],
   "source": [
    "\n",
    "\n",
    "pc1 = final[\"pagecount_all_views\"]\n",
    "pc2 = final[\"count_y\"]\n",
    "pc3 = final[\"count_x\"]\n",
    "pv1 = final[\"pageview_all_views\"]\n",
    "pv2 = final[\"views\"]\n",
    "pv3 = final[\"pageview_mobile_views\"]\n",
    "\n",
    "\n",
    "\n",
    "\n",
    "\n",
    "%matplotlib inline\n",
    "\n",
    "\n",
    "plt.plot(x, pc1, label = \"PageCount All\", color = \"black\")\n",
    "plt.plot(x, pc2, label = \"PageCount Desktop\", color = \"blue\")\n",
    "plt.plot(x, pc3, label = \"PageCount Mobile\", color = \"yellow\")\n",
    "plt.plot(x, pv1, label = \"PageView All\", color = \"green\")\n",
    "plt.plot(x, pv2, label = \"PageView  Desktop\", color = \"red\")\n",
    "plt.plot(x, pv3, label = \"PageView Mobile\", color = \"orange\")\n",
    "\n",
    "plt.legend(loc=2)\n",
    "plt.xlabel(\"Time\")\n",
    "plt.ylabel(\"Page Views (Raised to the power 9)\")\n",
    "\n",
    "\n",
    "\n",
    "plt.show()\n",
    "\n",
    "\n"
   ]
  },
  {
   "cell_type": "code",
   "execution_count": 103,
   "metadata": {
    "collapsed": true
   },
   "outputs": [],
   "source": [
    "fig.savefig(\"Plot.png\")"
   ]
  },
  {
   "cell_type": "code",
   "execution_count": null,
   "metadata": {
    "collapsed": true
   },
   "outputs": [],
   "source": []
  }
 ],
 "metadata": {
  "kernelspec": {
   "display_name": "Python 3",
   "language": "python",
   "name": "python3"
  },
  "language_info": {
   "codemirror_mode": {
    "name": "ipython",
    "version": 3
   },
   "file_extension": ".py",
   "mimetype": "text/x-python",
   "name": "python",
   "nbconvert_exporter": "python",
   "pygments_lexer": "ipython3",
   "version": "3.6.1"
  }
 },
 "nbformat": 4,
 "nbformat_minor": 2
}
